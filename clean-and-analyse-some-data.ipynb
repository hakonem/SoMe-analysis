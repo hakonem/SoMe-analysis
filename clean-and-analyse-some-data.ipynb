{
 "cells": [
  {
   "cell_type": "markdown",
   "id": "1b80a185",
   "metadata": {
    "papermill": {
     "duration": 0.010737,
     "end_time": "2024-07-15T09:56:41.967682",
     "exception": false,
     "start_time": "2024-07-15T09:56:41.956945",
     "status": "completed"
    },
    "tags": []
   },
   "source": [
    "# Project background and objectives\n",
    "\n",
    "In this project, I am taking on the role of a social media analyst responsible for collecting, cleaning, and analysing data on a client's social media posts. My job is to use this analysis to communicate insights and make data-driven recommendations to help my client optimise their social media strategy and increase their reach and engagement.  \n"
   ]
  },
  {
   "cell_type": "code",
   "execution_count": 1,
   "id": "443a195c",
   "metadata": {
    "_cell_guid": "b1076dfc-b9ad-4769-8c92-a6c4dae69d19",
    "_uuid": "8f2839f25d086af736a60e9eeb907d3b93b6e0e5",
    "execution": {
     "iopub.execute_input": "2024-07-15T09:56:41.990040Z",
     "iopub.status.busy": "2024-07-15T09:56:41.989627Z",
     "iopub.status.idle": "2024-07-15T09:56:44.688605Z",
     "shell.execute_reply": "2024-07-15T09:56:44.687359Z"
    },
    "papermill": {
     "duration": 2.713356,
     "end_time": "2024-07-15T09:56:44.691532",
     "exception": false,
     "start_time": "2024-07-15T09:56:41.978176",
     "status": "completed"
    },
    "tags": []
   },
   "outputs": [],
   "source": [
    "# Import the necessary libraries\n",
    "\n",
    "import numpy as np \n",
    "import pandas as pd\n",
    "import random\n",
    "import matplotlib.pyplot as plt\n",
    "import seaborn as sns\n"
   ]
  },
  {
   "cell_type": "markdown",
   "id": "d16d12bb",
   "metadata": {
    "papermill": {
     "duration": 0.010246,
     "end_time": "2024-07-15T09:56:44.713773",
     "exception": false,
     "start_time": "2024-07-15T09:56:44.703527",
     "status": "completed"
    },
    "tags": []
   },
   "source": [
    "I am supposing that I've been asked to collect data relating to the number of likes on Facebook posts across different categories.\n",
    "\n",
    "As this is a hypothetical client and I have no real data to work with, I need to generate some random data for the social media data I will be exploring and analysing later in the project. The data will consist of three features:\n",
    "\n",
    "1. Date \n",
    "1. Category\n",
    "1. Number of likes\n",
    "\n",
    "The dataset will contain 1000 rows, each of which will be assigned a random date in the date range 01-01-2023 - 31-12-2023, a random category from a predefined list, and a random number of likes in the range 0-5000.\n"
   ]
  },
  {
   "cell_type": "markdown",
   "id": "ffdfd6ff",
   "metadata": {
    "papermill": {
     "duration": 0.009998,
     "end_time": "2024-07-15T09:56:44.734299",
     "exception": false,
     "start_time": "2024-07-15T09:56:44.724301",
     "status": "completed"
    },
    "tags": []
   },
   "source": [
    "## Generating the data"
   ]
  },
  {
   "cell_type": "code",
   "execution_count": 2,
   "id": "e4aa20f9",
   "metadata": {
    "execution": {
     "iopub.execute_input": "2024-07-15T09:56:44.757092Z",
     "iopub.status.busy": "2024-07-15T09:56:44.756532Z",
     "iopub.status.idle": "2024-07-15T09:56:44.762177Z",
     "shell.execute_reply": "2024-07-15T09:56:44.761097Z"
    },
    "papermill": {
     "duration": 0.020147,
     "end_time": "2024-07-15T09:56:44.764945",
     "exception": false,
     "start_time": "2024-07-15T09:56:44.744798",
     "status": "completed"
    },
    "tags": []
   },
   "outputs": [],
   "source": [
    "# Here I define a list of categories\n",
    "\n",
    "categories = ['Travel', 'Sport', 'Entertainment', 'Family', 'Health', 'Fashion', 'Food']"
   ]
  },
  {
   "cell_type": "code",
   "execution_count": 3,
   "id": "52b98dfb",
   "metadata": {
    "execution": {
     "iopub.execute_input": "2024-07-15T09:56:44.787260Z",
     "iopub.status.busy": "2024-07-15T09:56:44.786856Z",
     "iopub.status.idle": "2024-07-15T09:56:44.809410Z",
     "shell.execute_reply": "2024-07-15T09:56:44.808209Z"
    },
    "papermill": {
     "duration": 0.037468,
     "end_time": "2024-07-15T09:56:44.812725",
     "exception": false,
     "start_time": "2024-07-15T09:56:44.775257",
     "status": "completed"
    },
    "tags": []
   },
   "outputs": [],
   "source": [
    "# Create data dictionary and populate with random data.\n",
    "\n",
    "# Define the start and end dates\n",
    "start_date = pd.to_datetime('2023-01-01')\n",
    "end_date = pd.to_datetime('2023-12-31')\n",
    "\n",
    "# Set the random seed for reproducibility\n",
    "rng = np.random.default_rng(seed=42)\n",
    "\n",
    "# Generate 1000 random dates within the range, one for each Facebook post. This method allows for multiple posts occurring on the same day.\n",
    "num_tweets = 1000\n",
    "random_dates = start_date + (end_date - start_date) * rng.random(num_tweets)\n",
    "\n",
    "# Convert the numpy array of random dates to a pandas Series and format as YYYY-MM-DD\n",
    "random_dates_formatted = pd.Series(random_dates).dt.strftime('%Y-%m-%d')\n",
    "\n",
    "data = {\n",
    "    'Date': random_dates_formatted,                                     # 1000 random dates within the given date range\n",
    "    'Category': rng.choice(categories, size=num_tweets),                # randomly selects a category from the list for each of the 1000 rows\n",
    "    'Likes': rng.integers(5000, size=num_tweets)                       # for each row, a random integer is selected in the range 0-5000 to represent number of likes\n",
    "}"
   ]
  },
  {
   "cell_type": "code",
   "execution_count": 4,
   "id": "34415d4d",
   "metadata": {
    "execution": {
     "iopub.execute_input": "2024-07-15T09:56:44.835642Z",
     "iopub.status.busy": "2024-07-15T09:56:44.835223Z",
     "iopub.status.idle": "2024-07-15T09:56:44.841721Z",
     "shell.execute_reply": "2024-07-15T09:56:44.840473Z"
    },
    "papermill": {
     "duration": 0.020578,
     "end_time": "2024-07-15T09:56:44.844126",
     "exception": false,
     "start_time": "2024-07-15T09:56:44.823548",
     "status": "completed"
    },
    "tags": []
   },
   "outputs": [],
   "source": [
    "# The data can now be viewed and handled in a pandas dataframe\n",
    "\n",
    "df = pd.DataFrame(data)"
   ]
  },
  {
   "cell_type": "markdown",
   "id": "2d7c19c4",
   "metadata": {
    "papermill": {
     "duration": 0.00979,
     "end_time": "2024-07-15T09:56:44.864069",
     "exception": false,
     "start_time": "2024-07-15T09:56:44.854279",
     "status": "completed"
    },
    "tags": []
   },
   "source": [
    "## Exploring the data"
   ]
  },
  {
   "cell_type": "code",
   "execution_count": 5,
   "id": "1a3bf47c",
   "metadata": {
    "execution": {
     "iopub.execute_input": "2024-07-15T09:56:44.887536Z",
     "iopub.status.busy": "2024-07-15T09:56:44.887134Z",
     "iopub.status.idle": "2024-07-15T09:56:44.910805Z",
     "shell.execute_reply": "2024-07-15T09:56:44.909622Z"
    },
    "papermill": {
     "duration": 0.038472,
     "end_time": "2024-07-15T09:56:44.913506",
     "exception": false,
     "start_time": "2024-07-15T09:56:44.875034",
     "status": "completed"
    },
    "tags": []
   },
   "outputs": [
    {
     "data": {
      "text/html": [
       "<div>\n",
       "<style scoped>\n",
       "    .dataframe tbody tr th:only-of-type {\n",
       "        vertical-align: middle;\n",
       "    }\n",
       "\n",
       "    .dataframe tbody tr th {\n",
       "        vertical-align: top;\n",
       "    }\n",
       "\n",
       "    .dataframe thead th {\n",
       "        text-align: right;\n",
       "    }\n",
       "</style>\n",
       "<table border=\"1\" class=\"dataframe\">\n",
       "  <thead>\n",
       "    <tr style=\"text-align: right;\">\n",
       "      <th></th>\n",
       "      <th>Date</th>\n",
       "      <th>Category</th>\n",
       "      <th>Likes</th>\n",
       "    </tr>\n",
       "  </thead>\n",
       "  <tbody>\n",
       "    <tr>\n",
       "      <th>0</th>\n",
       "      <td>2023-10-09</td>\n",
       "      <td>Food</td>\n",
       "      <td>3890</td>\n",
       "    </tr>\n",
       "    <tr>\n",
       "      <th>1</th>\n",
       "      <td>2023-06-09</td>\n",
       "      <td>Travel</td>\n",
       "      <td>3359</td>\n",
       "    </tr>\n",
       "    <tr>\n",
       "      <th>2</th>\n",
       "      <td>2023-11-09</td>\n",
       "      <td>Entertainment</td>\n",
       "      <td>4649</td>\n",
       "    </tr>\n",
       "    <tr>\n",
       "      <th>3</th>\n",
       "      <td>2023-09-11</td>\n",
       "      <td>Family</td>\n",
       "      <td>4802</td>\n",
       "    </tr>\n",
       "    <tr>\n",
       "      <th>4</th>\n",
       "      <td>2023-02-04</td>\n",
       "      <td>Fashion</td>\n",
       "      <td>3524</td>\n",
       "    </tr>\n",
       "  </tbody>\n",
       "</table>\n",
       "</div>"
      ],
      "text/plain": [
       "         Date       Category  Likes\n",
       "0  2023-10-09           Food   3890\n",
       "1  2023-06-09         Travel   3359\n",
       "2  2023-11-09  Entertainment   4649\n",
       "3  2023-09-11         Family   4802\n",
       "4  2023-02-04        Fashion   3524"
      ]
     },
     "execution_count": 5,
     "metadata": {},
     "output_type": "execute_result"
    }
   ],
   "source": [
    "# Look at the first few rows of the dataframe\n",
    "\n",
    "df.head()"
   ]
  },
  {
   "cell_type": "markdown",
   "id": "ff0ba1df",
   "metadata": {
    "papermill": {
     "duration": 0.010138,
     "end_time": "2024-07-15T09:56:44.934140",
     "exception": false,
     "start_time": "2024-07-15T09:56:44.924002",
     "status": "completed"
    },
    "tags": []
   },
   "source": [
    "Here we can see the dataframe is made up of three columns. Date and Likes are continuous variables, while Category is, not surprisingly, a categorical variable."
   ]
  },
  {
   "cell_type": "code",
   "execution_count": 6,
   "id": "60d391f4",
   "metadata": {
    "execution": {
     "iopub.execute_input": "2024-07-15T09:56:44.957529Z",
     "iopub.status.busy": "2024-07-15T09:56:44.957094Z",
     "iopub.status.idle": "2024-07-15T09:56:44.982437Z",
     "shell.execute_reply": "2024-07-15T09:56:44.981195Z"
    },
    "papermill": {
     "duration": 0.040792,
     "end_time": "2024-07-15T09:56:44.985376",
     "exception": false,
     "start_time": "2024-07-15T09:56:44.944584",
     "status": "completed"
    },
    "tags": []
   },
   "outputs": [
    {
     "name": "stdout",
     "output_type": "stream",
     "text": [
      "<class 'pandas.core.frame.DataFrame'>\n",
      "RangeIndex: 1000 entries, 0 to 999\n",
      "Data columns (total 3 columns):\n",
      " #   Column    Non-Null Count  Dtype \n",
      "---  ------    --------------  ----- \n",
      " 0   Date      1000 non-null   object\n",
      " 1   Category  1000 non-null   object\n",
      " 2   Likes     1000 non-null   int64 \n",
      "dtypes: int64(1), object(2)\n",
      "memory usage: 23.6+ KB\n"
     ]
    }
   ],
   "source": [
    "# Print a summary of the dataframe.\n",
    "\n",
    "df.info()"
   ]
  },
  {
   "cell_type": "markdown",
   "id": "2d507c31",
   "metadata": {
    "papermill": {
     "duration": 0.010884,
     "end_time": "2024-07-15T09:56:45.007036",
     "exception": false,
     "start_time": "2024-07-15T09:56:44.996152",
     "status": "completed"
    },
    "tags": []
   },
   "source": [
    "This summary shows that there are 3 columns and 1000 rows in the dataframe. It shows the datatype of each column and confirms that there are no missing values in any of the columns."
   ]
  },
  {
   "cell_type": "code",
   "execution_count": 7,
   "id": "a18c12ec",
   "metadata": {
    "execution": {
     "iopub.execute_input": "2024-07-15T09:56:45.030540Z",
     "iopub.status.busy": "2024-07-15T09:56:45.030106Z",
     "iopub.status.idle": "2024-07-15T09:56:45.049922Z",
     "shell.execute_reply": "2024-07-15T09:56:45.048694Z"
    },
    "papermill": {
     "duration": 0.034736,
     "end_time": "2024-07-15T09:56:45.052559",
     "exception": false,
     "start_time": "2024-07-15T09:56:45.017823",
     "status": "completed"
    },
    "tags": []
   },
   "outputs": [
    {
     "data": {
      "text/html": [
       "<div>\n",
       "<style scoped>\n",
       "    .dataframe tbody tr th:only-of-type {\n",
       "        vertical-align: middle;\n",
       "    }\n",
       "\n",
       "    .dataframe tbody tr th {\n",
       "        vertical-align: top;\n",
       "    }\n",
       "\n",
       "    .dataframe thead th {\n",
       "        text-align: right;\n",
       "    }\n",
       "</style>\n",
       "<table border=\"1\" class=\"dataframe\">\n",
       "  <thead>\n",
       "    <tr style=\"text-align: right;\">\n",
       "      <th></th>\n",
       "      <th>Likes</th>\n",
       "    </tr>\n",
       "  </thead>\n",
       "  <tbody>\n",
       "    <tr>\n",
       "      <th>count</th>\n",
       "      <td>1000.000000</td>\n",
       "    </tr>\n",
       "    <tr>\n",
       "      <th>mean</th>\n",
       "      <td>2505.172000</td>\n",
       "    </tr>\n",
       "    <tr>\n",
       "      <th>std</th>\n",
       "      <td>1430.058823</td>\n",
       "    </tr>\n",
       "    <tr>\n",
       "      <th>min</th>\n",
       "      <td>2.000000</td>\n",
       "    </tr>\n",
       "    <tr>\n",
       "      <th>25%</th>\n",
       "      <td>1207.750000</td>\n",
       "    </tr>\n",
       "    <tr>\n",
       "      <th>50%</th>\n",
       "      <td>2498.000000</td>\n",
       "    </tr>\n",
       "    <tr>\n",
       "      <th>75%</th>\n",
       "      <td>3745.250000</td>\n",
       "    </tr>\n",
       "    <tr>\n",
       "      <th>max</th>\n",
       "      <td>4996.000000</td>\n",
       "    </tr>\n",
       "  </tbody>\n",
       "</table>\n",
       "</div>"
      ],
      "text/plain": [
       "             Likes\n",
       "count  1000.000000\n",
       "mean   2505.172000\n",
       "std    1430.058823\n",
       "min       2.000000\n",
       "25%    1207.750000\n",
       "50%    2498.000000\n",
       "75%    3745.250000\n",
       "max    4996.000000"
      ]
     },
     "execution_count": 7,
     "metadata": {},
     "output_type": "execute_result"
    }
   ],
   "source": [
    "# Summary statistics for numerical columns - in this case, just the Likes column.\n",
    "\n",
    "df.describe()"
   ]
  },
  {
   "cell_type": "code",
   "execution_count": 8,
   "id": "d9f2e944",
   "metadata": {
    "execution": {
     "iopub.execute_input": "2024-07-15T09:56:45.076142Z",
     "iopub.status.busy": "2024-07-15T09:56:45.075727Z",
     "iopub.status.idle": "2024-07-15T09:56:45.085886Z",
     "shell.execute_reply": "2024-07-15T09:56:45.084630Z"
    },
    "papermill": {
     "duration": 0.025122,
     "end_time": "2024-07-15T09:56:45.088508",
     "exception": false,
     "start_time": "2024-07-15T09:56:45.063386",
     "status": "completed"
    },
    "tags": []
   },
   "outputs": [
    {
     "data": {
      "text/plain": [
       "Category\n",
       "Entertainment    154\n",
       "Food             152\n",
       "Family           149\n",
       "Fashion          143\n",
       "Sport            141\n",
       "Travel           135\n",
       "Health           126\n",
       "Name: count, dtype: int64"
      ]
     },
     "execution_count": 8,
     "metadata": {},
     "output_type": "execute_result"
    }
   ],
   "source": [
    "# Look at the number of posts belonging to each of the categories\n",
    "\n",
    "df.Category.value_counts()"
   ]
  },
  {
   "cell_type": "code",
   "execution_count": 9,
   "id": "0333d485",
   "metadata": {
    "execution": {
     "iopub.execute_input": "2024-07-15T09:56:45.121596Z",
     "iopub.status.busy": "2024-07-15T09:56:45.120080Z",
     "iopub.status.idle": "2024-07-15T09:56:45.135219Z",
     "shell.execute_reply": "2024-07-15T09:56:45.133690Z"
    },
    "papermill": {
     "duration": 0.035541,
     "end_time": "2024-07-15T09:56:45.138768",
     "exception": false,
     "start_time": "2024-07-15T09:56:45.103227",
     "status": "completed"
    },
    "tags": []
   },
   "outputs": [
    {
     "data": {
      "text/plain": [
       "False    1000\n",
       "Name: count, dtype: int64"
      ]
     },
     "execution_count": 9,
     "metadata": {},
     "output_type": "execute_result"
    }
   ],
   "source": [
    "# Check for duplicate rows\n",
    "duplicate_rows = df.duplicated()\n",
    "\n",
    "duplicate_rows.value_counts()"
   ]
  },
  {
   "cell_type": "markdown",
   "id": "091e1e43",
   "metadata": {
    "papermill": {
     "duration": 0.015536,
     "end_time": "2024-07-15T09:56:45.168333",
     "exception": false,
     "start_time": "2024-07-15T09:56:45.152797",
     "status": "completed"
    },
    "tags": []
   },
   "source": [
    "## Cleaning the data\n",
    "\n",
    "We have already established that there are no null values or duplicate rows in the dataset.\n",
    "\n",
    "I will convert the Date column to datetime format to enable time series plotting later on."
   ]
  },
  {
   "cell_type": "code",
   "execution_count": 10,
   "id": "ceda9f72",
   "metadata": {
    "execution": {
     "iopub.execute_input": "2024-07-15T09:56:45.193212Z",
     "iopub.status.busy": "2024-07-15T09:56:45.192744Z",
     "iopub.status.idle": "2024-07-15T09:56:45.205531Z",
     "shell.execute_reply": "2024-07-15T09:56:45.204287Z"
    },
    "papermill": {
     "duration": 0.028453,
     "end_time": "2024-07-15T09:56:45.208228",
     "exception": false,
     "start_time": "2024-07-15T09:56:45.179775",
     "status": "completed"
    },
    "tags": []
   },
   "outputs": [
    {
     "data": {
      "text/plain": [
       "Date        datetime64[ns]\n",
       "Category            object\n",
       "Likes                int64\n",
       "dtype: object"
      ]
     },
     "execution_count": 10,
     "metadata": {},
     "output_type": "execute_result"
    }
   ],
   "source": [
    "df['Date'] = pd.to_datetime(df['Date'])\n",
    "df.dtypes"
   ]
  },
  {
   "cell_type": "markdown",
   "id": "2329895b",
   "metadata": {
    "papermill": {
     "duration": 0.012788,
     "end_time": "2024-07-15T09:56:45.232795",
     "exception": false,
     "start_time": "2024-07-15T09:56:45.220007",
     "status": "completed"
    },
    "tags": []
   },
   "source": [
    "# Visualizing the data\n",
    "\n",
    "## Histogram of Likes"
   ]
  },
  {
   "cell_type": "code",
   "execution_count": 11,
   "id": "c8b2d52d",
   "metadata": {
    "execution": {
     "iopub.execute_input": "2024-07-15T09:56:45.262021Z",
     "iopub.status.busy": "2024-07-15T09:56:45.260918Z",
     "iopub.status.idle": "2024-07-15T09:56:45.751826Z",
     "shell.execute_reply": "2024-07-15T09:56:45.750506Z"
    },
    "papermill": {
     "duration": 0.508027,
     "end_time": "2024-07-15T09:56:45.754772",
     "exception": false,
     "start_time": "2024-07-15T09:56:45.246745",
     "status": "completed"
    },
    "tags": []
   },
   "outputs": [
    {
     "name": "stderr",
     "output_type": "stream",
     "text": [
      "/opt/conda/lib/python3.10/site-packages/seaborn/_oldcore.py:1119: FutureWarning: use_inf_as_na option is deprecated and will be removed in a future version. Convert inf values to NaN before operating instead.\n",
      "  with pd.option_context('mode.use_inf_as_na', True):\n"
     ]
    },
    {
     "data": {
      "image/png": "[encoded data removed]",
      "text/plain": [
       "<Figure size 1000x600 with 1 Axes>"
      ]
     },
     "metadata": {},
     "output_type": "display_data"
    }
   ],
   "source": [
    "plt.figure(figsize=(10, 6))\n",
    "sns.histplot(data=df, x='Likes', bins=25)     \n",
    "plt.xlabel('Number of Likes')\n",
    "plt.ylabel('Frequency')\n",
    "plt.title('Distribution of Likes on Facebook Posts')\n",
    "plt.show()"
   ]
  },
  {
   "cell_type": "markdown",
   "id": "fe6cdca4",
   "metadata": {
    "papermill": {
     "duration": 0.011772,
     "end_time": "2024-07-15T09:56:45.778570",
     "exception": false,
     "start_time": "2024-07-15T09:56:45.766798",
     "status": "completed"
    },
    "tags": []
   },
   "source": [
    "The histogram shows that the grouping of 3600-3800 likes has the highest frequency, but it's difficult to draw any actionable conclusions from this plot. If I instead define thresholds for the performance of the posts (e.g. by binning them into categories for 'Poor', 'Good', and 'Excellent' performance based on number of Likes), it will be easier to see how much engagement the client generates with its posts. Furthermore, we can subdivide the bars to see how each subject is represented in each Likes category. \n",
    "\n",
    "## Histogram of Likes by Performance and Category (Poor, Good, and Excellent)"
   ]
  },
  {
   "cell_type": "code",
   "execution_count": 12,
   "id": "884ad0c9",
   "metadata": {
    "execution": {
     "iopub.execute_input": "2024-07-15T09:56:45.804285Z",
     "iopub.status.busy": "2024-07-15T09:56:45.803841Z",
     "iopub.status.idle": "2024-07-15T09:56:45.813855Z",
     "shell.execute_reply": "2024-07-15T09:56:45.812331Z"
    },
    "papermill": {
     "duration": 0.026092,
     "end_time": "2024-07-15T09:56:45.816695",
     "exception": false,
     "start_time": "2024-07-15T09:56:45.790603",
     "status": "completed"
    },
    "tags": []
   },
   "outputs": [
    {
     "name": "stdout",
     "output_type": "stream",
     "text": [
      "Low threshold: 1653.0\n",
      "High threshold: 3286.0600000000004\n"
     ]
    }
   ],
   "source": [
    "# Calculate percentiles for thresholds\n",
    "low_threshold = np.percentile(df['Likes'], 33)\n",
    "high_threshold = np.percentile(df['Likes'], 66)\n",
    "\n",
    "print(f'Low threshold: {low_threshold}')\n",
    "print(f'High threshold: {high_threshold}')\n"
   ]
  },
  {
   "cell_type": "code",
   "execution_count": 13,
   "id": "ebc710cd",
   "metadata": {
    "execution": {
     "iopub.execute_input": "2024-07-15T09:56:45.844364Z",
     "iopub.status.busy": "2024-07-15T09:56:45.843919Z",
     "iopub.status.idle": "2024-07-15T09:56:46.328248Z",
     "shell.execute_reply": "2024-07-15T09:56:46.326420Z"
    },
    "papermill": {
     "duration": 0.501701,
     "end_time": "2024-07-15T09:56:46.331110",
     "exception": false,
     "start_time": "2024-07-15T09:56:45.829409",
     "status": "completed"
    },
    "tags": []
   },
   "outputs": [
    {
     "data": {
      "image/png": "[encoded data removed]",
      "text/plain": [
       "<Figure size 1200x800 with 1 Axes>"
      ]
     },
     "metadata": {},
     "output_type": "display_data"
    }
   ],
   "source": [
    "def categorize_performance(likes):\n",
    "    if likes < low_threshold:\n",
    "        return 'Poor'\n",
    "    elif likes < high_threshold:\n",
    "        return 'Good'\n",
    "    else:\n",
    "        return 'Excellent'\n",
    "\n",
    "df['Performance'] = df['Likes'].apply(categorize_performance)\n",
    "\n",
    "\n",
    "# Plotting the count plot to show distribution of likes categories\n",
    "plt.figure(figsize=(12, 8))\n",
    "sns.countplot(data=df, x='Performance', hue='Category')\n",
    "plt.xlabel('Performance')\n",
    "plt.ylabel('Frequency')\n",
    "plt.title('Distribution of Performance of Facebook Posts by Category')\n",
    "plt.legend(title='Category', bbox_to_anchor=(1, 1))\n",
    "plt.show()"
   ]
  },
  {
   "cell_type": "markdown",
   "id": "5f7aff5f",
   "metadata": {
    "papermill": {
     "duration": 0.012559,
     "end_time": "2024-07-15T09:56:46.356400",
     "exception": false,
     "start_time": "2024-07-15T09:56:46.343841",
     "status": "completed"
    },
    "tags": []
   },
   "source": [
    "Here we can see most posts in the 'Excellent' category relate to Family. Most of the posts in the 'Poor' category relate to Fashion. Travel produces the largest number of 'Good' posts, but fewer posts at either end of the spectrum. Interestingly, Food and Entertainment feature heavily in both the 'Excellent' and 'Poor' category, so it would be useful to try to find out what other factors determine the popularity of posts in these categories. With a box plot we can examine the distribution of likes across each category in more detail.   \n",
    "\n",
    "## Boxplot of Likes by Category"
   ]
  },
  {
   "cell_type": "code",
   "execution_count": 14,
   "id": "c8758445",
   "metadata": {
    "execution": {
     "iopub.execute_input": "2024-07-15T09:56:46.384052Z",
     "iopub.status.busy": "2024-07-15T09:56:46.383638Z",
     "iopub.status.idle": "2024-07-15T09:56:46.712180Z",
     "shell.execute_reply": "2024-07-15T09:56:46.710940Z"
    },
    "papermill": {
     "duration": 0.345979,
     "end_time": "2024-07-15T09:56:46.715100",
     "exception": false,
     "start_time": "2024-07-15T09:56:46.369121",
     "status": "completed"
    },
    "tags": []
   },
   "outputs": [
    {
     "data": {
      "image/png": "[encoded data removed]",
      "text/plain": [
       "<Figure size 1000x600 with 1 Axes>"
      ]
     },
     "metadata": {},
     "output_type": "display_data"
    }
   ],
   "source": [
    "# Boxplot showing the distribution per category\n",
    "\n",
    "plt.figure(figsize=(10, 6))\n",
    "\n",
    "sns.boxplot(x=\"Category\",\n",
    "                y=\"Likes\",\n",
    "                data=df)\n",
    "\n",
    "\n",
    "plt.title('Boxplot of Likes Distribution by Category')\n",
    "plt.xlabel('Category')\n",
    "plt.ylabel('Likes')\n",
    "plt.grid(False) \n",
    "plt.show()\n"
   ]
  },
  {
   "cell_type": "markdown",
   "id": "60e8caed",
   "metadata": {
    "papermill": {
     "duration": 0.013077,
     "end_time": "2024-07-15T09:56:46.742175",
     "exception": false,
     "start_time": "2024-07-15T09:56:46.729098",
     "status": "completed"
    },
    "tags": []
   },
   "source": [
    "The max and min values are very similar across all categories. The length of the box (which represents the interquartile range) looks to be greatest for Food and Entertainment, and smallest for Travel and Family. Let's print out the exact values of the IQR for each category to see this in more detail:"
   ]
  },
  {
   "cell_type": "code",
   "execution_count": 15,
   "id": "1b8a266d",
   "metadata": {
    "execution": {
     "iopub.execute_input": "2024-07-15T09:56:46.771379Z",
     "iopub.status.busy": "2024-07-15T09:56:46.770214Z",
     "iopub.status.idle": "2024-07-15T09:56:46.794655Z",
     "shell.execute_reply": "2024-07-15T09:56:46.793370Z"
    },
    "papermill": {
     "duration": 0.041713,
     "end_time": "2024-07-15T09:56:46.797343",
     "exception": false,
     "start_time": "2024-07-15T09:56:46.755630",
     "status": "completed"
    },
    "tags": []
   },
   "outputs": [
    {
     "data": {
      "text/html": [
       "<div>\n",
       "<style scoped>\n",
       "    .dataframe tbody tr th:only-of-type {\n",
       "        vertical-align: middle;\n",
       "    }\n",
       "\n",
       "    .dataframe tbody tr th {\n",
       "        vertical-align: top;\n",
       "    }\n",
       "\n",
       "    .dataframe thead th {\n",
       "        text-align: right;\n",
       "    }\n",
       "</style>\n",
       "<table border=\"1\" class=\"dataframe\">\n",
       "  <thead>\n",
       "    <tr style=\"text-align: right;\">\n",
       "      <th></th>\n",
       "      <th>Q1</th>\n",
       "      <th>Q3</th>\n",
       "      <th>IQR</th>\n",
       "    </tr>\n",
       "    <tr>\n",
       "      <th>Category</th>\n",
       "      <th></th>\n",
       "      <th></th>\n",
       "      <th></th>\n",
       "    </tr>\n",
       "  </thead>\n",
       "  <tbody>\n",
       "    <tr>\n",
       "      <th>Entertainment</th>\n",
       "      <td>1153.75</td>\n",
       "      <td>3775.00</td>\n",
       "      <td>2621.25</td>\n",
       "    </tr>\n",
       "    <tr>\n",
       "      <th>Family</th>\n",
       "      <td>1612.00</td>\n",
       "      <td>3907.00</td>\n",
       "      <td>2295.00</td>\n",
       "    </tr>\n",
       "    <tr>\n",
       "      <th>Fashion</th>\n",
       "      <td>991.00</td>\n",
       "      <td>3559.50</td>\n",
       "      <td>2568.50</td>\n",
       "    </tr>\n",
       "    <tr>\n",
       "      <th>Food</th>\n",
       "      <td>1133.25</td>\n",
       "      <td>3762.50</td>\n",
       "      <td>2629.25</td>\n",
       "    </tr>\n",
       "    <tr>\n",
       "      <th>Health</th>\n",
       "      <td>1138.50</td>\n",
       "      <td>3681.25</td>\n",
       "      <td>2542.75</td>\n",
       "    </tr>\n",
       "    <tr>\n",
       "      <th>Sport</th>\n",
       "      <td>1208.00</td>\n",
       "      <td>3607.00</td>\n",
       "      <td>2399.00</td>\n",
       "    </tr>\n",
       "    <tr>\n",
       "      <th>Travel</th>\n",
       "      <td>1381.00</td>\n",
       "      <td>3685.00</td>\n",
       "      <td>2304.00</td>\n",
       "    </tr>\n",
       "  </tbody>\n",
       "</table>\n",
       "</div>"
      ],
      "text/plain": [
       "                    Q1       Q3      IQR\n",
       "Category                                \n",
       "Entertainment  1153.75  3775.00  2621.25\n",
       "Family         1612.00  3907.00  2295.00\n",
       "Fashion         991.00  3559.50  2568.50\n",
       "Food           1133.25  3762.50  2629.25\n",
       "Health         1138.50  3681.25  2542.75\n",
       "Sport          1208.00  3607.00  2399.00\n",
       "Travel         1381.00  3685.00  2304.00"
      ]
     },
     "execution_count": 15,
     "metadata": {},
     "output_type": "execute_result"
    }
   ],
   "source": [
    "# Calculate Q1 (25th percentile)\n",
    "q1 = df.groupby('Category')['Likes'].quantile(0.25)\n",
    "\n",
    "# Calculate Q3 (75th percentile)\n",
    "q3 = df.groupby('Category')['Likes'].quantile(0.75)\n",
    "\n",
    "# Combine Q1 and Q3 into a single dataframe for better readability\n",
    "iqr_df = pd.DataFrame({'Q1': q1, 'Q3': q3})\n",
    "\n",
    "# Calculate IQR\n",
    "iqr_df['IQR'] = iqr_df['Q3'] - iqr_df['Q1']\n",
    "\n",
    "iqr_df"
   ]
  },
  {
   "cell_type": "markdown",
   "id": "6cca8723",
   "metadata": {
    "papermill": {
     "duration": 0.01319,
     "end_time": "2024-07-15T09:56:46.823973",
     "exception": false,
     "start_time": "2024-07-15T09:56:46.810783",
     "status": "completed"
    },
    "tags": []
   },
   "source": [
    "This confirms that the smallest IQRs belong to Family and Travel, and the largest IQRs belong to Entertainment and Food. A smaller IQR indicates that the central data are closer together for these three categories, so the data is more consistent, while the other categories show slightly more variability.   \n",
    "\n",
    "Going back to the boxplot, we can see two categories (Food, Travel) where the median appears below the centre of the box, indicating a right-skewed distribution (higher concentration of data points among lower values). The other categories have a median above the centre of the box, so are left-skewed (higher concentration of data points among higher values). \n",
    "\n",
    "We know the date when each post was made; a boxplot showing number of likes by category for different days of week might reveal if some categories tend to perform better at certain times of the week.   \n",
    "\n",
    "## Boxplot of Likes by Day of the Week"
   ]
  },
  {
   "cell_type": "code",
   "execution_count": 16,
   "id": "93a40408",
   "metadata": {
    "execution": {
     "iopub.execute_input": "2024-07-15T09:56:46.852798Z",
     "iopub.status.busy": "2024-07-15T09:56:46.852366Z",
     "iopub.status.idle": "2024-07-15T09:56:46.862746Z",
     "shell.execute_reply": "2024-07-15T09:56:46.861559Z"
    },
    "papermill": {
     "duration": 0.028008,
     "end_time": "2024-07-15T09:56:46.865428",
     "exception": false,
     "start_time": "2024-07-15T09:56:46.837420",
     "status": "completed"
    },
    "tags": []
   },
   "outputs": [
    {
     "name": "stdout",
     "output_type": "stream",
     "text": [
      "day_of_week\n",
      "Thursday     153\n",
      "Wednesday    153\n",
      "Friday       152\n",
      "Monday       148\n",
      "Saturday     139\n",
      "Tuesday      139\n",
      "Sunday       116\n",
      "Name: count, dtype: int64\n"
     ]
    }
   ],
   "source": [
    "# Extract the day of the week from Date and show value counts\n",
    "\n",
    "df['day_of_week'] = df['Date'].dt.day_name()\n",
    "print(df['day_of_week'].value_counts())"
   ]
  },
  {
   "cell_type": "code",
   "execution_count": 17,
   "id": "91371053",
   "metadata": {
    "execution": {
     "iopub.execute_input": "2024-07-15T09:56:46.895678Z",
     "iopub.status.busy": "2024-07-15T09:56:46.895237Z",
     "iopub.status.idle": "2024-07-15T09:56:48.160312Z",
     "shell.execute_reply": "2024-07-15T09:56:48.159012Z"
    },
    "papermill": {
     "duration": 1.283422,
     "end_time": "2024-07-15T09:56:48.162973",
     "exception": false,
     "start_time": "2024-07-15T09:56:46.879551",
     "status": "completed"
    },
    "tags": []
   },
   "outputs": [
    {
     "data": {
      "image/png": "[encoded data removed]",
      "text/plain": [
       "<Figure size 1600x800 with 1 Axes>"
      ]
     },
     "metadata": {},
     "output_type": "display_data"
    }
   ],
   "source": [
    "# Define the order of days\n",
    "days_order = ['Monday', 'Tuesday', 'Wednesday', 'Thursday', 'Friday', 'Saturday', 'Sunday']\n",
    "\n",
    "# Convert 'day_of_week' to categorical with the specified order\n",
    "df['day_of_week'] = pd.Categorical(df['day_of_week'], categories=days_order, ordered=True)\n",
    "\n",
    "# Boxplot for each subject with different boxes for each day of the week\n",
    "plt.figure(figsize=(16, 8))\n",
    "sns.boxplot(x='Category', y='Likes', hue='day_of_week', data=df)\n",
    "plt.title('Distribution of Likes by Subject and Day of the Week')\n",
    "plt.legend(title='Day of week', bbox_to_anchor=(1, 1))\n",
    "\n",
    "plt.axhline(y=low_threshold, color='y', linestyle=':')\n",
    "plt.axhline(y=high_threshold, color='y', linestyle=':')\n",
    "\n",
    "plt.show()\n"
   ]
  },
  {
   "cell_type": "markdown",
   "id": "260b16b0",
   "metadata": {
    "papermill": {
     "duration": 0.015022,
     "end_time": "2024-07-15T09:56:48.193552",
     "exception": false,
     "start_time": "2024-07-15T09:56:48.178530",
     "status": "completed"
    },
    "tags": []
   },
   "source": [
    "Remember the threshold for 'Poor' performance is 1653, and the threshold for 'Excellent' performance is 3286. These are shown on the boxplot as dotted yellow lines.\n",
    "\n",
    "The length of the boxes will show us the range in which distributions are concentrated, while the position of the median line within the boxes indicate whether there is a skew in the distribution of the data.  \n",
    "\n",
    "Generally the boxes are long, showing quite a bit of variability in the performance of posts. However, some of the boxes are much shorter than the others, suggesting that posts in these categories perform more consistently on these days. For example, Travel posts on Tuesdays and Saturdays consistently have a 'Good' performance; Family posts on Tuesdays consistently perform well, with a tendency towards 'Excellent' performance; Sport posts on Sundays generally perform poorly, with a tendency towards 'Poor' performance.\n"
   ]
  },
  {
   "cell_type": "markdown",
   "id": "2edbe2c9",
   "metadata": {
    "papermill": {
     "duration": 0.015479,
     "end_time": "2024-07-15T09:56:48.224704",
     "exception": false,
     "start_time": "2024-07-15T09:56:48.209225",
     "status": "completed"
    },
    "tags": []
   },
   "source": [
    "## Statistical analysis\n",
    "\n",
    "We can compare the mean number of Likes for each category with the overall mean number of Likes for the whole dataset."
   ]
  },
  {
   "cell_type": "code",
   "execution_count": 18,
   "id": "605d3cd2",
   "metadata": {
    "execution": {
     "iopub.execute_input": "2024-07-15T09:56:48.257228Z",
     "iopub.status.busy": "2024-07-15T09:56:48.256742Z",
     "iopub.status.idle": "2024-07-15T09:56:48.265040Z",
     "shell.execute_reply": "2024-07-15T09:56:48.263690Z"
    },
    "papermill": {
     "duration": 0.027862,
     "end_time": "2024-07-15T09:56:48.267695",
     "exception": false,
     "start_time": "2024-07-15T09:56:48.239833",
     "status": "completed"
    },
    "tags": []
   },
   "outputs": [
    {
     "data": {
      "text/plain": [
       "2505.172"
      ]
     },
     "execution_count": 18,
     "metadata": {},
     "output_type": "execute_result"
    }
   ],
   "source": [
    "df.Likes.mean()"
   ]
  },
  {
   "cell_type": "code",
   "execution_count": 19,
   "id": "28a6ad03",
   "metadata": {
    "execution": {
     "iopub.execute_input": "2024-07-15T09:56:48.299766Z",
     "iopub.status.busy": "2024-07-15T09:56:48.299352Z",
     "iopub.status.idle": "2024-07-15T09:56:48.311247Z",
     "shell.execute_reply": "2024-07-15T09:56:48.309959Z"
    },
    "papermill": {
     "duration": 0.031068,
     "end_time": "2024-07-15T09:56:48.313741",
     "exception": false,
     "start_time": "2024-07-15T09:56:48.282673",
     "status": "completed"
    },
    "tags": []
   },
   "outputs": [
    {
     "data": {
      "text/plain": [
       "Category\n",
       "Entertainment    2530.857143\n",
       "Family           2762.966443\n",
       "Fashion          2377.678322\n",
       "Food             2424.875000\n",
       "Health           2459.476190\n",
       "Sport            2499.382979\n",
       "Travel           2465.496296\n",
       "Name: Likes, dtype: float64"
      ]
     },
     "execution_count": 19,
     "metadata": {},
     "output_type": "execute_result"
    }
   ],
   "source": [
    "groups = df.groupby('Category')\n",
    "groups.Likes.mean()"
   ]
  },
  {
   "cell_type": "markdown",
   "id": "88bbfed0",
   "metadata": {
    "papermill": {
     "duration": 0.014752,
     "end_time": "2024-07-15T09:56:48.343737",
     "exception": false,
     "start_time": "2024-07-15T09:56:48.328985",
     "status": "completed"
    },
    "tags": []
   },
   "source": [
    "Family and Entertainment posts generate on average more likes than the average for the whole dataset. Fashion generates noticeably fewer likes on average than the dataset as a whole."
   ]
  },
  {
   "cell_type": "markdown",
   "id": "5748f10e",
   "metadata": {
    "papermill": {
     "duration": 0.014684,
     "end_time": "2024-07-15T09:56:48.373464",
     "exception": false,
     "start_time": "2024-07-15T09:56:48.358780",
     "status": "completed"
    },
    "tags": []
   },
   "source": [
    "# Conclusion\n",
    " \n",
    "My analysis reveals two issues: low median values and values with high variability. In order to improve the performance of posts, we need to try to raise median values to above the threshold for 'Poor' performance, as well as improve the consistency of post performance by reducing the IQR.\n",
    "\n",
    "## Step 1: Addressing Low Median Values  \n",
    "* Identify poor-performing days: If a category consistently shows low median values and/or a skew towards lower values on a specific day of the week, it indicates that this day might not be optimal for posting in that category.  \n",
    "* Recommendation: Consider scheduling tweets for this category on other days that show higher median values, where tweets tend to perform better.  \n",
    "\n",
    "*For example:*  \n",
    "* Food posts tend to perform poorly on Thursdays. Performance varies quite a bit in this category, but the data seems to suggest that moving these posts to Fridays would produce better results.  \n",
    "* Wednesdays and Thursdays appear to be particularly bad times to post about Fashion. Friday and Saturday posts perform much better.  \n",
    "* Sport posts on Sundays perform consistently poorly. The client would probably see an improvement in engagement by moving these posts to Fridays.\n",
    "\n",
    "## Step 2: Analysing High Variability (IQR)  \n",
    "* Deep analysis of tweets: For categories posted on days that result in a high IQR, we should perform a deeper analysis to understand why there's such a wide range of performance.  \n",
    "* Recommendation: Use Natural Language Processing (NLP) techniques to analyse the content of the tweets to identify patterns in successful vs. less successful tweets."
   ]
  }
 ],
 "metadata": {
  "kaggle": {
   "accelerator": "none",
   "dataSources": [],
   "dockerImageVersionId": 30732,
   "isGpuEnabled": false,
   "isInternetEnabled": true,
   "language": "python",
   "sourceType": "notebook"
  },
  "kernelspec": {
   "display_name": "Python 3",
   "language": "python",
   "name": "python3"
  },
  "language_info": {
   "codemirror_mode": {
    "name": "ipython",
    "version": 3
   },
   "file_extension": ".py",
   "mimetype": "text/x-python",
   "name": "python",
   "nbconvert_exporter": "python",
   "pygments_lexer": "ipython3",
   "version": "3.10.13"
  },
  "papermill": {
   "default_parameters": {},
   "duration": 10.54343,
   "end_time": "2024-07-15T09:56:49.110644",
   "environment_variables": {},
   "exception": null,
   "input_path": "__notebook__.ipynb",
   "output_path": "__notebook__.ipynb",
   "parameters": {},
   "start_time": "2024-07-15T09:56:38.567214",
   "version": "2.5.0"
  }
 },
 "nbformat": 4,
 "nbformat_minor": 5
}

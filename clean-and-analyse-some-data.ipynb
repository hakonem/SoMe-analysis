{
 "cells": [
  {
   "cell_type": "markdown",
   "id": "7fe9b582",
   "metadata": {
    "papermill": {
     "duration": 0.009402,
     "end_time": "2024-07-08T10:03:52.134948",
     "exception": false,
     "start_time": "2024-07-08T10:03:52.125546",
     "status": "completed"
    },
    "tags": []
   },
   "source": [
    "# Project background and objectives\n",
    "\n",
    "In this project, I am taking on the role of a social media analyst responsible for collecting, cleaning, and analysing data on a client's social media posts. My job is to use this analysis to communicate insights and make data-driven recommendations to help my client optimise their social media strategy and increase their reach and engagement.  \n"
   ]
  },
  {
   "cell_type": "code",
   "execution_count": 1,
   "id": "cb019709",
   "metadata": {
    "_cell_guid": "b1076dfc-b9ad-4769-8c92-a6c4dae69d19",
    "_uuid": "8f2839f25d086af736a60e9eeb907d3b93b6e0e5",
    "execution": {
     "iopub.execute_input": "2024-07-08T10:03:52.154896Z",
     "iopub.status.busy": "2024-07-08T10:03:52.154432Z",
     "iopub.status.idle": "2024-07-08T10:03:54.644738Z",
     "shell.execute_reply": "2024-07-08T10:03:54.643515Z"
    },
    "papermill": {
     "duration": 2.503721,
     "end_time": "2024-07-08T10:03:54.647674",
     "exception": false,
     "start_time": "2024-07-08T10:03:52.143953",
     "status": "completed"
    },
    "tags": []
   },
   "outputs": [],
   "source": [
    "# Import the necessary libraries\n",
    "\n",
    "import numpy as np \n",
    "import pandas as pd\n",
    "import random\n",
    "import matplotlib.pyplot as plt\n",
    "import seaborn as sns\n"
   ]
  },
  {
   "cell_type": "markdown",
   "id": "4b56f2e0",
   "metadata": {
    "papermill": {
     "duration": 0.008637,
     "end_time": "2024-07-08T10:03:54.665832",
     "exception": false,
     "start_time": "2024-07-08T10:03:54.657195",
     "status": "completed"
    },
    "tags": []
   },
   "source": [
    "I am supposing that I've been asked to collect data relating to the number of likes on Facebook posts across different categories.\n",
    "\n",
    "As this is a hypothetical client and I have no real data to work with, I need to generate some random data for the social media data I will be exploring and analysing later in the project. The data will consist of three features:\n",
    "\n",
    "1. Date \n",
    "1. Category\n",
    "1. Number of likes\n"
   ]
  },
  {
   "cell_type": "markdown",
   "id": "9f73c403",
   "metadata": {
    "papermill": {
     "duration": 0.008635,
     "end_time": "2024-07-08T10:03:54.683420",
     "exception": false,
     "start_time": "2024-07-08T10:03:54.674785",
     "status": "completed"
    },
    "tags": []
   },
   "source": [
    "## Generating the data"
   ]
  },
  {
   "cell_type": "code",
   "execution_count": 2,
   "id": "e9c99b99",
   "metadata": {
    "execution": {
     "iopub.execute_input": "2024-07-08T10:03:54.703177Z",
     "iopub.status.busy": "2024-07-08T10:03:54.702627Z",
     "iopub.status.idle": "2024-07-08T10:03:54.708654Z",
     "shell.execute_reply": "2024-07-08T10:03:54.707407Z"
    },
    "papermill": {
     "duration": 0.018972,
     "end_time": "2024-07-08T10:03:54.711382",
     "exception": false,
     "start_time": "2024-07-08T10:03:54.692410",
     "status": "completed"
    },
    "tags": []
   },
   "outputs": [],
   "source": [
    "# Here I define a list of categories\n",
    "\n",
    "categories = ['Travel', 'Sport', 'Music', 'Family', 'Health', 'Film', 'Fashion', 'Food', 'Books', 'Comedy']"
   ]
  },
  {
   "cell_type": "code",
   "execution_count": 3,
   "id": "6e7d58d8",
   "metadata": {
    "execution": {
     "iopub.execute_input": "2024-07-08T10:03:54.731748Z",
     "iopub.status.busy": "2024-07-08T10:03:54.731345Z",
     "iopub.status.idle": "2024-07-08T10:03:54.753729Z",
     "shell.execute_reply": "2024-07-08T10:03:54.752378Z"
    },
    "papermill": {
     "duration": 0.0361,
     "end_time": "2024-07-08T10:03:54.756611",
     "exception": false,
     "start_time": "2024-07-08T10:03:54.720511",
     "status": "completed"
    },
    "tags": []
   },
   "outputs": [],
   "source": [
    "# Create data dictionary and populate with random data.\n",
    "\n",
    "# Define the start and end dates\n",
    "start_date = pd.to_datetime('2023-01-01')\n",
    "end_date = pd.to_datetime('2024-01-01')\n",
    "\n",
    "# Set the random seed for reproducibility\n",
    "rng = np.random.default_rng(seed=42)\n",
    "\n",
    "# Generate 1000 random dates within the range, one for each Facebook post. This method allows for multiple posts occurring on the same day.\n",
    "num_tweets = 1000\n",
    "random_dates = start_date + (end_date - start_date) * rng.random(num_tweets)\n",
    "\n",
    "# Convert the numpy array of random dates to a pandas Series and format as YYYY-MM-DD\n",
    "random_dates_formatted = pd.Series(random_dates).dt.strftime('%Y-%m-%d')\n",
    "\n",
    "data = {\n",
    "    'Date': random_dates_formatted,                                     # 2000 random dates within the given date range\n",
    "    'Category': rng.choice(categories, size=num_tweets),                # randomly selects a category from the list for each of the 1000 rows\n",
    "    'Likes': rng.integers(5000, size=num_tweets)                       # for each row, a random integer is selected in the range 0-5000 to represent number of likes\n",
    "}"
   ]
  },
  {
   "cell_type": "code",
   "execution_count": 4,
   "id": "90817929",
   "metadata": {
    "execution": {
     "iopub.execute_input": "2024-07-08T10:03:54.776540Z",
     "iopub.status.busy": "2024-07-08T10:03:54.776095Z",
     "iopub.status.idle": "2024-07-08T10:03:54.782744Z",
     "shell.execute_reply": "2024-07-08T10:03:54.781472Z"
    },
    "papermill": {
     "duration": 0.019737,
     "end_time": "2024-07-08T10:03:54.785400",
     "exception": false,
     "start_time": "2024-07-08T10:03:54.765663",
     "status": "completed"
    },
    "tags": []
   },
   "outputs": [],
   "source": [
    "# The data can now be viewed and handled in a pandas dataframe\n",
    "\n",
    "df = pd.DataFrame(data)"
   ]
  },
  {
   "cell_type": "markdown",
   "id": "00913b95",
   "metadata": {
    "papermill": {
     "duration": 0.008615,
     "end_time": "2024-07-08T10:03:54.803153",
     "exception": false,
     "start_time": "2024-07-08T10:03:54.794538",
     "status": "completed"
    },
    "tags": []
   },
   "source": [
    "## Exploring the data"
   ]
  },
  {
   "cell_type": "code",
   "execution_count": 5,
   "id": "35b13de0",
   "metadata": {
    "execution": {
     "iopub.execute_input": "2024-07-08T10:03:54.822738Z",
     "iopub.status.busy": "2024-07-08T10:03:54.822350Z",
     "iopub.status.idle": "2024-07-08T10:03:54.845887Z",
     "shell.execute_reply": "2024-07-08T10:03:54.844627Z"
    },
    "papermill": {
     "duration": 0.03665,
     "end_time": "2024-07-08T10:03:54.848739",
     "exception": false,
     "start_time": "2024-07-08T10:03:54.812089",
     "status": "completed"
    },
    "tags": []
   },
   "outputs": [
    {
     "data": {
      "text/html": [
       "<div>\n",
       "<style scoped>\n",
       "    .dataframe tbody tr th:only-of-type {\n",
       "        vertical-align: middle;\n",
       "    }\n",
       "\n",
       "    .dataframe tbody tr th {\n",
       "        vertical-align: top;\n",
       "    }\n",
       "\n",
       "    .dataframe thead th {\n",
       "        text-align: right;\n",
       "    }\n",
       "</style>\n",
       "<table border=\"1\" class=\"dataframe\">\n",
       "  <thead>\n",
       "    <tr style=\"text-align: right;\">\n",
       "      <th></th>\n",
       "      <th>Date</th>\n",
       "      <th>Category</th>\n",
       "      <th>Likes</th>\n",
       "    </tr>\n",
       "  </thead>\n",
       "  <tbody>\n",
       "    <tr>\n",
       "      <th>0</th>\n",
       "      <td>2023-10-10</td>\n",
       "      <td>Books</td>\n",
       "      <td>3890</td>\n",
       "    </tr>\n",
       "    <tr>\n",
       "      <th>1</th>\n",
       "      <td>2023-06-10</td>\n",
       "      <td>Travel</td>\n",
       "      <td>3359</td>\n",
       "    </tr>\n",
       "    <tr>\n",
       "      <th>2</th>\n",
       "      <td>2023-11-10</td>\n",
       "      <td>Family</td>\n",
       "      <td>4649</td>\n",
       "    </tr>\n",
       "    <tr>\n",
       "      <th>3</th>\n",
       "      <td>2023-09-12</td>\n",
       "      <td>Health</td>\n",
       "      <td>4802</td>\n",
       "    </tr>\n",
       "    <tr>\n",
       "      <th>4</th>\n",
       "      <td>2023-02-04</td>\n",
       "      <td>Food</td>\n",
       "      <td>3524</td>\n",
       "    </tr>\n",
       "  </tbody>\n",
       "</table>\n",
       "</div>"
      ],
      "text/plain": [
       "         Date Category  Likes\n",
       "0  2023-10-10    Books   3890\n",
       "1  2023-06-10   Travel   3359\n",
       "2  2023-11-10   Family   4649\n",
       "3  2023-09-12   Health   4802\n",
       "4  2023-02-04     Food   3524"
      ]
     },
     "execution_count": 5,
     "metadata": {},
     "output_type": "execute_result"
    }
   ],
   "source": [
    "# Look at the first few rows of the dataframe\n",
    "\n",
    "df.head()"
   ]
  },
  {
   "cell_type": "markdown",
   "id": "13e8024f",
   "metadata": {
    "papermill": {
     "duration": 0.009034,
     "end_time": "2024-07-08T10:03:54.867115",
     "exception": false,
     "start_time": "2024-07-08T10:03:54.858081",
     "status": "completed"
    },
    "tags": []
   },
   "source": [
    "Here we can see the dataframe is made up of three columns. Date and Likes are continuous variables, while Category is, not surprisingly, a categorical variable."
   ]
  },
  {
   "cell_type": "code",
   "execution_count": 6,
   "id": "3cc84880",
   "metadata": {
    "execution": {
     "iopub.execute_input": "2024-07-08T10:03:54.887688Z",
     "iopub.status.busy": "2024-07-08T10:03:54.887281Z",
     "iopub.status.idle": "2024-07-08T10:03:54.911890Z",
     "shell.execute_reply": "2024-07-08T10:03:54.910541Z"
    },
    "papermill": {
     "duration": 0.037928,
     "end_time": "2024-07-08T10:03:54.914671",
     "exception": false,
     "start_time": "2024-07-08T10:03:54.876743",
     "status": "completed"
    },
    "tags": []
   },
   "outputs": [
    {
     "name": "stdout",
     "output_type": "stream",
     "text": [
      "<class 'pandas.core.frame.DataFrame'>\n",
      "RangeIndex: 1000 entries, 0 to 999\n",
      "Data columns (total 3 columns):\n",
      " #   Column    Non-Null Count  Dtype \n",
      "---  ------    --------------  ----- \n",
      " 0   Date      1000 non-null   object\n",
      " 1   Category  1000 non-null   object\n",
      " 2   Likes     1000 non-null   int64 \n",
      "dtypes: int64(1), object(2)\n",
      "memory usage: 23.6+ KB\n"
     ]
    }
   ],
   "source": [
    "# Print a summary of the dataframe.\n",
    "\n",
    "df.info()"
   ]
  },
  {
   "cell_type": "markdown",
   "id": "753d0696",
   "metadata": {
    "papermill": {
     "duration": 0.008881,
     "end_time": "2024-07-08T10:03:54.932865",
     "exception": false,
     "start_time": "2024-07-08T10:03:54.923984",
     "status": "completed"
    },
    "tags": []
   },
   "source": [
    "This summary shows that there are 3 columns and 2000 rows in the dataframe. It shows the datatype of each column and confirms that there are no missing values in any of the columns."
   ]
  },
  {
   "cell_type": "code",
   "execution_count": 7,
   "id": "26fd9019",
   "metadata": {
    "execution": {
     "iopub.execute_input": "2024-07-08T10:03:54.953154Z",
     "iopub.status.busy": "2024-07-08T10:03:54.952715Z",
     "iopub.status.idle": "2024-07-08T10:03:54.970956Z",
     "shell.execute_reply": "2024-07-08T10:03:54.969714Z"
    },
    "papermill": {
     "duration": 0.031753,
     "end_time": "2024-07-08T10:03:54.973911",
     "exception": false,
     "start_time": "2024-07-08T10:03:54.942158",
     "status": "completed"
    },
    "tags": []
   },
   "outputs": [
    {
     "data": {
      "text/html": [
       "<div>\n",
       "<style scoped>\n",
       "    .dataframe tbody tr th:only-of-type {\n",
       "        vertical-align: middle;\n",
       "    }\n",
       "\n",
       "    .dataframe tbody tr th {\n",
       "        vertical-align: top;\n",
       "    }\n",
       "\n",
       "    .dataframe thead th {\n",
       "        text-align: right;\n",
       "    }\n",
       "</style>\n",
       "<table border=\"1\" class=\"dataframe\">\n",
       "  <thead>\n",
       "    <tr style=\"text-align: right;\">\n",
       "      <th></th>\n",
       "      <th>Likes</th>\n",
       "    </tr>\n",
       "  </thead>\n",
       "  <tbody>\n",
       "    <tr>\n",
       "      <th>count</th>\n",
       "      <td>1000.000000</td>\n",
       "    </tr>\n",
       "    <tr>\n",
       "      <th>mean</th>\n",
       "      <td>2505.172000</td>\n",
       "    </tr>\n",
       "    <tr>\n",
       "      <th>std</th>\n",
       "      <td>1430.058823</td>\n",
       "    </tr>\n",
       "    <tr>\n",
       "      <th>min</th>\n",
       "      <td>2.000000</td>\n",
       "    </tr>\n",
       "    <tr>\n",
       "      <th>25%</th>\n",
       "      <td>1207.750000</td>\n",
       "    </tr>\n",
       "    <tr>\n",
       "      <th>50%</th>\n",
       "      <td>2498.000000</td>\n",
       "    </tr>\n",
       "    <tr>\n",
       "      <th>75%</th>\n",
       "      <td>3745.250000</td>\n",
       "    </tr>\n",
       "    <tr>\n",
       "      <th>max</th>\n",
       "      <td>4996.000000</td>\n",
       "    </tr>\n",
       "  </tbody>\n",
       "</table>\n",
       "</div>"
      ],
      "text/plain": [
       "             Likes\n",
       "count  1000.000000\n",
       "mean   2505.172000\n",
       "std    1430.058823\n",
       "min       2.000000\n",
       "25%    1207.750000\n",
       "50%    2498.000000\n",
       "75%    3745.250000\n",
       "max    4996.000000"
      ]
     },
     "execution_count": 7,
     "metadata": {},
     "output_type": "execute_result"
    }
   ],
   "source": [
    "# Summary statistics for numerical columns - in this case, just the Likes column.\n",
    "\n",
    "df.describe()"
   ]
  },
  {
   "cell_type": "code",
   "execution_count": 8,
   "id": "5761ee1a",
   "metadata": {
    "execution": {
     "iopub.execute_input": "2024-07-08T10:03:54.996115Z",
     "iopub.status.busy": "2024-07-08T10:03:54.995355Z",
     "iopub.status.idle": "2024-07-08T10:03:55.004622Z",
     "shell.execute_reply": "2024-07-08T10:03:55.003511Z"
    },
    "papermill": {
     "duration": 0.023679,
     "end_time": "2024-07-08T10:03:55.007243",
     "exception": false,
     "start_time": "2024-07-08T10:03:54.983564",
     "status": "completed"
    },
    "tags": []
   },
   "outputs": [
    {
     "data": {
      "text/plain": [
       "Category\n",
       "Comedy     114\n",
       "Sport      112\n",
       "Family     110\n",
       "Health     108\n",
       "Food        96\n",
       "Film        96\n",
       "Books       95\n",
       "Fashion     91\n",
       "Travel      89\n",
       "Music       89\n",
       "Name: count, dtype: int64"
      ]
     },
     "execution_count": 8,
     "metadata": {},
     "output_type": "execute_result"
    }
   ],
   "source": [
    "# Look at the number of posts belonging to each of the categories\n",
    "\n",
    "df.Category.value_counts()"
   ]
  },
  {
   "cell_type": "code",
   "execution_count": 9,
   "id": "e97018f0",
   "metadata": {
    "execution": {
     "iopub.execute_input": "2024-07-08T10:03:55.028912Z",
     "iopub.status.busy": "2024-07-08T10:03:55.028481Z",
     "iopub.status.idle": "2024-07-08T10:03:55.040589Z",
     "shell.execute_reply": "2024-07-08T10:03:55.039519Z"
    },
    "papermill": {
     "duration": 0.025661,
     "end_time": "2024-07-08T10:03:55.043174",
     "exception": false,
     "start_time": "2024-07-08T10:03:55.017513",
     "status": "completed"
    },
    "tags": []
   },
   "outputs": [
    {
     "data": {
      "text/plain": [
       "False    1000\n",
       "Name: count, dtype: int64"
      ]
     },
     "execution_count": 9,
     "metadata": {},
     "output_type": "execute_result"
    }
   ],
   "source": [
    "# Check for duplicate rows\n",
    "duplicate_rows = df.duplicated()\n",
    "\n",
    "duplicate_rows.value_counts()"
   ]
  },
  {
   "cell_type": "markdown",
   "id": "2caf14b3",
   "metadata": {
    "papermill": {
     "duration": 0.009566,
     "end_time": "2024-07-08T10:03:55.062711",
     "exception": false,
     "start_time": "2024-07-08T10:03:55.053145",
     "status": "completed"
    },
    "tags": []
   },
   "source": [
    "## Cleaning the data\n",
    "\n",
    "We have already established that there are no null values or duplicate rows in the dataset.\n",
    "\n",
    "I will convert the Date column to datetime format to enable plotting."
   ]
  },
  {
   "cell_type": "code",
   "execution_count": 10,
   "id": "fe1dd9b2",
   "metadata": {
    "execution": {
     "iopub.execute_input": "2024-07-08T10:03:55.084149Z",
     "iopub.status.busy": "2024-07-08T10:03:55.083745Z",
     "iopub.status.idle": "2024-07-08T10:03:55.100274Z",
     "shell.execute_reply": "2024-07-08T10:03:55.099038Z"
    },
    "papermill": {
     "duration": 0.030244,
     "end_time": "2024-07-08T10:03:55.102900",
     "exception": false,
     "start_time": "2024-07-08T10:03:55.072656",
     "status": "completed"
    },
    "tags": []
   },
   "outputs": [
    {
     "data": {
      "text/plain": [
       "Date        datetime64[ns]\n",
       "Category            object\n",
       "Likes                int64\n",
       "dtype: object"
      ]
     },
     "execution_count": 10,
     "metadata": {},
     "output_type": "execute_result"
    }
   ],
   "source": [
    "df['Date'] = pd.to_datetime(df['Date'])\n",
    "df['Date'] = df['Date'].dt.normalize()\n",
    "df.dtypes"
   ]
  },
  {
   "cell_type": "markdown",
   "id": "75b06db4",
   "metadata": {
    "papermill": {
     "duration": 0.009839,
     "end_time": "2024-07-08T10:03:55.122791",
     "exception": false,
     "start_time": "2024-07-08T10:03:55.112952",
     "status": "completed"
    },
    "tags": []
   },
   "source": [
    "## Visualizing the data"
   ]
  },
  {
   "cell_type": "code",
   "execution_count": 11,
   "id": "4d5c8ac2",
   "metadata": {
    "execution": {
     "iopub.execute_input": "2024-07-08T10:03:55.145425Z",
     "iopub.status.busy": "2024-07-08T10:03:55.144258Z",
     "iopub.status.idle": "2024-07-08T10:03:55.574395Z",
     "shell.execute_reply": "2024-07-08T10:03:55.573182Z"
    },
    "papermill": {
     "duration": 0.4444,
     "end_time": "2024-07-08T10:03:55.577267",
     "exception": false,
     "start_time": "2024-07-08T10:03:55.132867",
     "status": "completed"
    },
    "tags": []
   },
   "outputs": [
    {
     "name": "stderr",
     "output_type": "stream",
     "text": [
      "/opt/conda/lib/python3.10/site-packages/seaborn/_oldcore.py:1119: FutureWarning: use_inf_as_na option is deprecated and will be removed in a future version. Convert inf values to NaN before operating instead.\n",
      "  with pd.option_context('mode.use_inf_as_na', True):\n"
     ]
    },
    {
     "data": {
      "image/png": "[encoded data removed]",
      "text/plain": [
       "<Figure size 1000x600 with 1 Axes>"
      ]
     },
     "metadata": {},
     "output_type": "display_data"
    }
   ],
   "source": [
    "# Histogram of Likes\n",
    "\n",
    "plt.figure(figsize=(10, 6))\n",
    "sns.histplot(data=df, x='Likes', bins=25)     \n",
    "plt.xlabel('Number of Likes')\n",
    "plt.ylabel('Frequency')\n",
    "plt.title('Distribution of Likes on Facebook Posts')\n",
    "plt.show()"
   ]
  },
  {
   "cell_type": "markdown",
   "id": "c4436759",
   "metadata": {
    "papermill": {
     "duration": 0.010253,
     "end_time": "2024-07-08T10:03:55.598231",
     "exception": false,
     "start_time": "2024-07-08T10:03:55.587978",
     "status": "completed"
    },
    "tags": []
   },
   "source": [
    "The histogram shows that the grouping of 3600-3800 likes has the highest frequency, but it's difficult to draw any actionable conclusions from this plot. By defining thresholds for 'Low', 'Medium' and 'High' numbers of Likes, it will be easier to see how much engagement the client generates with its posts. Furthermore, we can subdivide the bars to see how each subject is represented in each likes category. I will set the 33rd percentile as the threshold between low and medium, and the 66th percentile as the threshold between medium and high."
   ]
  },
  {
   "cell_type": "code",
   "execution_count": 12,
   "id": "60cfb290",
   "metadata": {
    "execution": {
     "iopub.execute_input": "2024-07-08T10:03:55.621455Z",
     "iopub.status.busy": "2024-07-08T10:03:55.620999Z",
     "iopub.status.idle": "2024-07-08T10:03:55.629683Z",
     "shell.execute_reply": "2024-07-08T10:03:55.628375Z"
    },
    "papermill": {
     "duration": 0.023433,
     "end_time": "2024-07-08T10:03:55.632301",
     "exception": false,
     "start_time": "2024-07-08T10:03:55.608868",
     "status": "completed"
    },
    "tags": []
   },
   "outputs": [
    {
     "name": "stdout",
     "output_type": "stream",
     "text": [
      "Low threshold: 1653.0\n",
      "High threshold: 3286.0600000000004\n"
     ]
    }
   ],
   "source": [
    "# Calculate percentiles for thresholds\n",
    "low_threshold = np.percentile(df['Likes'], 33)\n",
    "high_threshold = np.percentile(df['Likes'], 66)\n",
    "\n",
    "print(f'Low threshold: {low_threshold}')\n",
    "print(f'High threshold: {high_threshold}')"
   ]
  },
  {
   "cell_type": "code",
   "execution_count": 13,
   "id": "eb674234",
   "metadata": {
    "execution": {
     "iopub.execute_input": "2024-07-08T10:03:55.656014Z",
     "iopub.status.busy": "2024-07-08T10:03:55.655172Z",
     "iopub.status.idle": "2024-07-08T10:03:56.148614Z",
     "shell.execute_reply": "2024-07-08T10:03:56.147405Z"
    },
    "papermill": {
     "duration": 0.508547,
     "end_time": "2024-07-08T10:03:56.151659",
     "exception": false,
     "start_time": "2024-07-08T10:03:55.643112",
     "status": "completed"
    },
    "tags": []
   },
   "outputs": [
    {
     "data": {
      "image/png": "[encoded data removed]",
      "text/plain": [
       "<Figure size 1200x800 with 1 Axes>"
      ]
     },
     "metadata": {},
     "output_type": "display_data"
    }
   ],
   "source": [
    "# Categorize likes based on the calculated thresholds\n",
    "def categorize_likes(likes):\n",
    "    if likes < low_threshold:\n",
    "        return 'Low'\n",
    "    elif likes < high_threshold:\n",
    "        return 'Medium'\n",
    "    else:\n",
    "        return 'High'\n",
    "\n",
    "df['Likes Category'] = df['Likes'].apply(categorize_likes)\n",
    "\n",
    "# Plotting the count plot to show distribution of likes categories\n",
    "plt.figure(figsize=(12, 8))\n",
    "sns.countplot(data=df, x='Likes Category', hue='Category')\n",
    "plt.xlabel('Likes Category')\n",
    "plt.ylabel('Frequency')\n",
    "plt.title('Distribution of Likes on Facebook Posts (Categorized as Low, Medium, and High) by Subject Category')\n",
    "plt.legend(title='Subject category', bbox_to_anchor=(1, 1))\n",
    "plt.show()"
   ]
  },
  {
   "cell_type": "markdown",
   "id": "d040bb7a",
   "metadata": {
    "papermill": {
     "duration": 0.011119,
     "end_time": "2024-07-08T10:03:56.174915",
     "exception": false,
     "start_time": "2024-07-08T10:03:56.163796",
     "status": "completed"
    },
    "tags": []
   },
   "source": [
    "Here we can see that Health generates the most posts in the 'High' likes category, followed by Books, Family, Comedy, and Film.\n",
    "Most of the posts in the Low likes category relate to Sport, with Comedy and Food also generating a high number of Low likes."
   ]
  },
  {
   "cell_type": "code",
   "execution_count": 14,
   "id": "51771785",
   "metadata": {
    "execution": {
     "iopub.execute_input": "2024-07-08T10:03:56.199539Z",
     "iopub.status.busy": "2024-07-08T10:03:56.199119Z",
     "iopub.status.idle": "2024-07-08T10:03:56.615350Z",
     "shell.execute_reply": "2024-07-08T10:03:56.614140Z"
    },
    "papermill": {
     "duration": 0.431743,
     "end_time": "2024-07-08T10:03:56.618047",
     "exception": false,
     "start_time": "2024-07-08T10:03:56.186304",
     "status": "completed"
    },
    "tags": []
   },
   "outputs": [
    {
     "data": {
      "image/png": "[encoded data removed]",
      "text/plain": [
       "<Figure size 1000x600 with 1 Axes>"
      ]
     },
     "metadata": {},
     "output_type": "display_data"
    }
   ],
   "source": [
    "# Boxplot showing the distribution per category\n",
    "\n",
    "plt.figure(figsize=(10, 6))\n",
    "\n",
    "sns.boxplot(x=\"Category\",\n",
    "                y=\"Likes\",\n",
    "                data=df)\n",
    "\n",
    "\n",
    "plt.title('Boxplot of Likes Distribution by Category')\n",
    "plt.xlabel('Category')\n",
    "plt.ylabel('Likes')\n",
    "plt.grid(False) \n",
    "plt.show()\n"
   ]
  },
  {
   "cell_type": "markdown",
   "id": "19715614",
   "metadata": {
    "papermill": {
     "duration": 0.011719,
     "end_time": "2024-07-08T10:03:56.642232",
     "exception": false,
     "start_time": "2024-07-08T10:03:56.630513",
     "status": "completed"
    },
    "tags": []
   },
   "source": [
    "Categories where median below centre of box: Travel, Sport, Comedy\n",
    "Maybe look at boxplots showing different days of week - do some categories do better on different days?"
   ]
  },
  {
   "cell_type": "markdown",
   "id": "d3c97920",
   "metadata": {
    "papermill": {
     "duration": 0.011756,
     "end_time": "2024-07-08T10:03:56.666122",
     "exception": false,
     "start_time": "2024-07-08T10:03:56.654366",
     "status": "completed"
    },
    "tags": []
   },
   "source": [
    "Statistical analysis: Comparing the mean number of Likes for each category with the overall mean number of Likes for the whole dataset."
   ]
  },
  {
   "cell_type": "code",
   "execution_count": 15,
   "id": "f5fdfa15",
   "metadata": {
    "execution": {
     "iopub.execute_input": "2024-07-08T10:03:56.691868Z",
     "iopub.status.busy": "2024-07-08T10:03:56.691501Z",
     "iopub.status.idle": "2024-07-08T10:03:56.698750Z",
     "shell.execute_reply": "2024-07-08T10:03:56.697712Z"
    },
    "papermill": {
     "duration": 0.023104,
     "end_time": "2024-07-08T10:03:56.701132",
     "exception": false,
     "start_time": "2024-07-08T10:03:56.678028",
     "status": "completed"
    },
    "tags": []
   },
   "outputs": [
    {
     "data": {
      "text/plain": [
       "2505.172"
      ]
     },
     "execution_count": 15,
     "metadata": {},
     "output_type": "execute_result"
    }
   ],
   "source": [
    "df.Likes.mean()"
   ]
  },
  {
   "cell_type": "code",
   "execution_count": 16,
   "id": "8ae32b4f",
   "metadata": {
    "execution": {
     "iopub.execute_input": "2024-07-08T10:03:56.726921Z",
     "iopub.status.busy": "2024-07-08T10:03:56.726545Z",
     "iopub.status.idle": "2024-07-08T10:03:56.739111Z",
     "shell.execute_reply": "2024-07-08T10:03:56.737793Z"
    },
    "papermill": {
     "duration": 0.028479,
     "end_time": "2024-07-08T10:03:56.741639",
     "exception": false,
     "start_time": "2024-07-08T10:03:56.713160",
     "status": "completed"
    },
    "tags": []
   },
   "outputs": [
    {
     "data": {
      "text/plain": [
       "Category\n",
       "Books      2508.294737\n",
       "Comedy     2430.201754\n",
       "Family     2512.518182\n",
       "Fashion    2470.263736\n",
       "Film       2711.166667\n",
       "Food       2246.177083\n",
       "Health     2689.925926\n",
       "Music      2644.528090\n",
       "Sport      2298.928571\n",
       "Travel     2577.640449\n",
       "Name: Likes, dtype: float64"
      ]
     },
     "execution_count": 16,
     "metadata": {},
     "output_type": "execute_result"
    }
   ],
   "source": [
    "groups = df.groupby('Category')\n",
    "groups.Likes.mean()"
   ]
  },
  {
   "cell_type": "markdown",
   "id": "fed6d18b",
   "metadata": {
    "papermill": {
     "duration": 0.012066,
     "end_time": "2024-07-08T10:03:56.766141",
     "exception": false,
     "start_time": "2024-07-08T10:03:56.754075",
     "status": "completed"
    },
    "tags": []
   },
   "source": [
    "The average number of Likes in the Comedy, Fashion, Food, and Sport categories is lower than the overall average.\n",
    "Food has the lowest average number of Likes, and Film has the highest average."
   ]
  },
  {
   "cell_type": "code",
   "execution_count": 17,
   "id": "4716d8aa",
   "metadata": {
    "execution": {
     "iopub.execute_input": "2024-07-08T10:03:56.793146Z",
     "iopub.status.busy": "2024-07-08T10:03:56.792739Z",
     "iopub.status.idle": "2024-07-08T10:03:56.798540Z",
     "shell.execute_reply": "2024-07-08T10:03:56.797298Z"
    },
    "papermill": {
     "duration": 0.022215,
     "end_time": "2024-07-08T10:03:56.800971",
     "exception": false,
     "start_time": "2024-07-08T10:03:56.778756",
     "status": "completed"
    },
    "tags": []
   },
   "outputs": [],
   "source": [
    "# CONCLUSION\n",
    "# Write a conclusion about your process and any key findings.\n",
    "# This is your opportunity to impress your prospective employer with your critical thinking and problemsolving skills. You may want to discuss the process you followed and share your struggles and how you\n",
    "# overcame them. What do you think sets your portfolio project apart from those of other candidates?\n",
    "# You may even want to offer ideas for improving the design for future business endeavors.\n",
    "# At this point, you can prepare the project artifacts for uploading into your portfolio. You should include:\n",
    "# • An image file of your Graphs and Statistics with the fields and data displayed.\n",
    "# • Excerpts from your code explaining the purpose of the code.\n",
    "# • Any improvements/changes you would make to the application."
   ]
  }
 ],
 "metadata": {
  "kaggle": {
   "accelerator": "none",
   "dataSources": [],
   "dockerImageVersionId": 30732,
   "isGpuEnabled": false,
   "isInternetEnabled": true,
   "language": "python",
   "sourceType": "notebook"
  },
  "kernelspec": {
   "display_name": "Python 3",
   "language": "python",
   "name": "python3"
  },
  "language_info": {
   "codemirror_mode": {
    "name": "ipython",
    "version": 3
   },
   "file_extension": ".py",
   "mimetype": "text/x-python",
   "name": "python",
   "nbconvert_exporter": "python",
   "pygments_lexer": "ipython3",
   "version": "3.10.13"
  },
  "papermill": {
   "default_parameters": {},
   "duration": 8.508443,
   "end_time": "2024-07-08T10:03:57.438323",
   "environment_variables": {},
   "exception": null,
   "input_path": "__notebook__.ipynb",
   "output_path": "__notebook__.ipynb",
   "parameters": {},
   "start_time": "2024-07-08T10:03:48.929880",
   "version": "2.5.0"
  }
 },
 "nbformat": 4,
 "nbformat_minor": 5
}
